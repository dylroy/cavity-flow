{
 "cells": [
  {
   "cell_type": "code",
   "execution_count": 2,
   "id": "b51ee826",
   "metadata": {},
   "outputs": [],
   "source": [
    "import numpy as np\n",
    "import xarray as xr\n",
    "import matplotlib.pyplot as plt\n",
    "from tqdm import tqdm\n",
    "import holoviews as hv\n",
    "import panel as pn\n",
    "import sys\n",
    "from dataclasses import dataclass\n",
    "from dataclasses import field"
   ]
  },
  {
   "cell_type": "code",
   "execution_count": null,
   "id": "275988e8",
   "metadata": {},
   "outputs": [],
   "source": [
    "@dataclass\n",
    "class C:\n",
    "    species: str\n",
    "    name: str = field(init=False)"
   ]
  },
  {
   "cell_type": "code",
   "execution_count": 5,
   "id": "71c862a3",
   "metadata": {},
   "outputs": [
    {
     "data": {
      "text/plain": [
       "'human'"
      ]
     },
     "execution_count": 5,
     "metadata": {},
     "output_type": "execute_result"
    }
   ],
   "source": [
    "class1.species"
   ]
  },
  {
   "cell_type": "code",
   "execution_count": 6,
   "id": "600ba963",
   "metadata": {},
   "outputs": [
    {
     "data": {
      "text/plain": [
       "'default_dog_name'"
      ]
     },
     "execution_count": 6,
     "metadata": {},
     "output_type": "execute_result"
    }
   ],
   "source": [
    "class1.name"
   ]
  },
  {
   "cell_type": "code",
   "execution_count": null,
   "id": "2e369119",
   "metadata": {},
   "outputs": [],
   "source": []
  }
 ],
 "metadata": {
  "kernelspec": {
   "display_name": ".venv",
   "language": "python",
   "name": "python3"
  },
  "language_info": {
   "codemirror_mode": {
    "name": "ipython",
    "version": 3
   },
   "file_extension": ".py",
   "mimetype": "text/x-python",
   "name": "python",
   "nbconvert_exporter": "python",
   "pygments_lexer": "ipython3",
   "version": "3.11.9"
  }
 },
 "nbformat": 4,
 "nbformat_minor": 5
}
